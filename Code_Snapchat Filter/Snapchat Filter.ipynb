{
 "cells": [
  {
   "cell_type": "code",
   "execution_count": 1,
   "metadata": {},
   "outputs": [],
   "source": [
    "import numpy as np\n",
    "import cv2"
   ]
  },
  {
   "cell_type": "code",
   "execution_count": 2,
   "metadata": {},
   "outputs": [],
   "source": [
    "face_cascade=cv2.CascadeClassifier(\"C:/Python36/Lib/site-packages/cv2/data/haarcascade_frontalface_alt.xml\")\n",
    "eye_cascade=cv2.CascadeClassifier(\"C:/Python36/Lib/site-packages/cv2/data/haarcascade_mcs_eyepair_big.xml\")\n",
    "nose_cascade=cv2.CascadeClassifier(\"C:/Python36/Lib/site-packages/cv2/data/haarcascade_mcs_nose.xml\")\n",
    "path='./Data'"
   ]
  },
  {
   "cell_type": "code",
   "execution_count": 3,
   "metadata": {},
   "outputs": [],
   "source": [
    "frame=cv2.imread(\"./Data/Test/test.png\")\n",
    "glasses=cv2.imread(\"./Filters/glasses.png\",-1)\n",
    "mustache=cv2.imread(\"./Filters/mustache.png\",-1)\n",
    "frame=cv2.cvtColor(frame,cv2.COLOR_BGR2BGRA)"
   ]
  },
  {
   "cell_type": "code",
   "execution_count": 4,
   "metadata": {},
   "outputs": [],
   "source": [
    "faces = face_cascade.detectMultiScale(frame, 1.2, 5)\n",
    "for (x,y,w,h) in faces:\n",
    "    #cv2.rectangle(frame,(x,y),(x+w,y+h),(255,0,0),2)\n",
    "    face_section=frame[y:y+h,x:x+w]\n",
    "    \n",
    "\n",
    "    \n",
    "    #EYES AND GLASSES\n",
    "    eyes = eye_cascade.detectMultiScale(face_section,1.2,5).reshape((-1,))\n",
    "    ex,ey,ew,eh=eyes\n",
    "    #cv2.rectangle(face_section,(ex,ey),(ex+ew,ey+eh),(0,255,0),2)\n",
    "    \n",
    "    glass2 = cv2.resize(glasses.copy(),(int(1.1*ew),int(2.5*eh)))\n",
    "    gw,gh,gc = glass2.shape\n",
    "    for i in range(gw):\n",
    "        for j in range(gh):\n",
    "            if glass2[i,j][3]!=0:\n",
    "                face_section[ey - int(0.6*eh)+i, int(ex)+j-int(ew/12)] = glass2[i,j]\n",
    "                \n",
    "                \n",
    "                \n",
    "    #NOSE AND MOUSTACHE\n",
    "    noses=nose_cascade.detectMultiScale(face_section,1.2,5)\n",
    "    noses=sorted(noses,key=lambda f:f[2]*f[3])\n",
    "    nx,ny,nw,nh=noses[-1]\n",
    "    #cv2.rectangle(face_section,(nx,ny),(nx+nw,ny+nh),(0,0,255),2)\n",
    "    mustache2 = cv2.resize(mustache.copy(),(nw,nh))\n",
    "    mw,mh,mc = mustache2.shape\n",
    "    for i in range(mw):\n",
    "        for j in range(mh):\n",
    "            if mustache2[i,j][3]!=0:\n",
    "                face_section[ny+i+int(ny/6),nx+j] = mustache2[i,j]\n",
    "\n",
    "    \n",
    "#DISPLAY              \n",
    "img=cv2.cvtColor(frame, cv2.COLOR_BGRA2BGR)\n",
    "cv2.imshow(\"Result\",frame)\n",
    "    \n",
    "key_press=cv2.waitKey(0) & 0XFF\n",
    "if(key_press==ord('q')):\n",
    "    cv2.destroyAllWindows()"
   ]
  },
  {
   "cell_type": "code",
   "execution_count": null,
   "metadata": {},
   "outputs": [],
   "source": []
  },
  {
   "cell_type": "code",
   "execution_count": null,
   "metadata": {},
   "outputs": [],
   "source": []
  }
 ],
 "metadata": {
  "kernelspec": {
   "display_name": "Python 3",
   "language": "python",
   "name": "python3"
  },
  "language_info": {
   "codemirror_mode": {
    "name": "ipython",
    "version": 3
   },
   "file_extension": ".py",
   "mimetype": "text/x-python",
   "name": "python",
   "nbconvert_exporter": "python",
   "pygments_lexer": "ipython3",
   "version": "3.7.6"
  }
 },
 "nbformat": 4,
 "nbformat_minor": 4
}
